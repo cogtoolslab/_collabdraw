{
 "cells": [
  {
   "cell_type": "code",
   "execution_count": 1,
   "metadata": {
    "collapsed": true
   },
   "outputs": [],
   "source": [
    "from __future__ import absolute_import, division\n",
    "\n",
    "import os\n",
    "import sys\n",
    "import urllib, cStringIO\n",
    "\n",
    "import numpy as np\n",
    "import scipy.stats as stats\n",
    "import pandas as pd\n",
    "\n",
    "import pymongo as pm\n",
    "from collections import Counter\n",
    "import json\n",
    "import re\n",
    "import ast\n",
    "\n",
    "from PIL import Image, ImageOps, ImageDraw, ImageFont \n",
    "\n",
    "from io import BytesIO\n",
    "import base64\n",
    "from svgpathtools import parse_path, wsvg, Path, Line\n",
    "\n",
    "import  matplotlib\n",
    "from matplotlib import pylab, mlab, pyplot\n",
    "%matplotlib inline\n",
    "from IPython.core.pylabtools import figsize, getfigs\n",
    "plt = pyplot\n",
    "import matplotlib as mpl\n",
    "mpl.rcParams['pdf.fonttype'] = 42\n",
    "\n",
    "import seaborn as sns\n",
    "sns.set_context('talk')\n",
    "sns.set_style('darkgrid')\n",
    "\n",
    "from IPython.display import clear_output\n",
    "\n",
    "import warnings\n",
    "warnings.filterwarnings(\"ignore\", category=DeprecationWarning)\n",
    "warnings.filterwarnings(\"ignore\", message=\"numpy.dtype size changed\")\n",
    "warnings.filterwarnings(\"ignore\", message=\"numpy.ufunc size changed\")"
   ]
  },
  {
   "cell_type": "markdown",
   "metadata": {},
   "source": [
    "### setup"
   ]
  },
  {
   "cell_type": "code",
   "execution_count": 2,
   "metadata": {
    "collapsed": false
   },
   "outputs": [
    {
     "data": {
      "text/plain": [
       "<module 'rendering_helpers' from 'rendering_helpers.pyc'>"
      ]
     },
     "execution_count": 2,
     "metadata": {},
     "output_type": "execute_result"
    }
   ],
   "source": [
    "# directory & file hierarchy\n",
    "proj_dir = os.path.abspath('..')\n",
    "analysis_dir = os.getcwd()\n",
    "results_dir = os.path.join(proj_dir,'results')\n",
    "plot_dir = os.path.join(results_dir,'plots')\n",
    "csv_dir = os.path.join(results_dir,'csv')\n",
    "exp_dir = os.path.abspath(os.path.join(proj_dir,'experiments'))\n",
    "sketch_dir = os.path.abspath(os.path.join(proj_dir,'sketches'))\n",
    "svg_dir = os.path.abspath(os.path.join(sketch_dir,'svg'))\n",
    "png_dir = os.path.abspath(os.path.join(sketch_dir,'png'))\n",
    "\n",
    "## add helpers to python path\n",
    "if os.path.join(proj_dir,'analysis') not in sys.path:\n",
    "    sys.path.append(os.path.join(proj_dir,'python'))\n",
    "    \n",
    "if not os.path.exists(results_dir):\n",
    "    os.makedirs(results_dir)\n",
    "    \n",
    "if not os.path.exists(plot_dir):\n",
    "    os.makedirs(plot_dir)   \n",
    "    \n",
    "if not os.path.exists(csv_dir):\n",
    "    os.makedirs(csv_dir)       \n",
    "    \n",
    "# Assign variables within imported analysis helpers\n",
    "import analysis_helpers as h\n",
    "import rendering_helpers as srh\n",
    "if sys.version_info[0]>=3:\n",
    "    from importlib import reload\n",
    "reload(h)\n",
    "reload(srh)"
   ]
  },
  {
   "cell_type": "markdown",
   "metadata": {},
   "source": [
    "### experiment record"
   ]
  },
  {
   "cell_type": "markdown",
   "metadata": {},
   "source": [
    "- *`pilot0`: Test UI*\n",
    "    * 2 participants. \n",
    "    * Mostly fine, but found a few bugs with data saving and fixed.\n",
    "- *`pilot1`: Explore prepost design*\n",
    "    * N = 18+ participants. \n",
    "        * note: game '9053-d3a0c1d9-cb81-4bdd-a572-5e38b91b33e9' in pilot1 missing stroke data from the first sheep\n",
    "    * experimentDesign: `prepost`\n",
    "    * Is there transfer from collab phase to solo drawing?*\n",
    "    * Each session contains 40 drawing trials.\n",
    "    * Same 8 categories used in all sessions: ['bear','cat','duck','lion','pig','rabbit','sheep','swan'] \n",
    "    * 4 of these categories are assigned to the \"collab\" condition; the other 4 are assigned to the \"solo\" condition.\n",
    "    * Each category is drawn five times. The first and fifth time, the category is drawn solo. The second through fourth time, if the object belongs to the \"collab\" condition, participant takes turns drawing with robot. If the object instead belongs to the \"solo\" condition, participant again draws on their own.\n",
    "    * Every trial ends when human decides the drawing is sufficiently recognizable & clicks submit button.\n",
    "    * All categories are drawn across 5 repetition cycles, wherein all categories are drawn once in a randomized order, before proceeding to next repetition cycle.\n",
    "- *`pilot2`: Baseline task (collab vs. solo)*\n",
    "    * N = 95 participants. \n",
    "    * experimentDesign: `baseline`\n",
    "    * Same 8 categories used in all sessions: ['bear','cat','duck','lion','pig','rabbit','sheep','swan'] \n",
    "    * All 8 categories drawn both collaboratively & solo.\n",
    "    * Each category is drawn four times each, in a counterbalanced order. \n",
    "- *`*pilot3`: Classifier added.*\n",
    "    * N participants\n",
    "    * experimentDesign: `baseline`\n",
    "    * Same 8 categories used in all sessions: ['bear','cat','duck','lion','pig','rabbit','sheep','swan'] \n",
    "    * All 8 categories drawn both collaboratively & solo.\n",
    "    * Each category is drawn four times each, in a counterbalanced order. \n",
    "    * Classifier results sent back to server with each finished stroke/sketch to make it much easier to do timecourse analyses\n",
    "    * Classifier results sometimes provided to participant as performance/motivational feedback (to incentivize good-quality drawings)."
   ]
  },
  {
   "cell_type": "markdown",
   "metadata": {},
   "source": [
    "### connect to db"
   ]
  },
  {
   "cell_type": "code",
   "execution_count": 3,
   "metadata": {
    "collapsed": true
   },
   "outputs": [],
   "source": [
    "# set vars \n",
    "auth = pd.read_csv('auth.txt', header = None) # this auth.txt file contains the password for the sketchloop user\n",
    "pswd = auth.values[0][0]\n",
    "user = 'sketchloop'\n",
    "host = 'stanford-cogsci.org' ## cocolab ip address\n",
    "\n",
    "# have to fix this to be able to analyze from local\n",
    "import pymongo as pm\n",
    "conn = pm.MongoClient('mongodb://sketchloop:' + pswd + '@127.0.0.1')\n",
    "db = conn['collabdraw']\n",
    "coll = db['collab']\n",
    "\n",
    "# which iteration name should we use?\n",
    "iterationName = 'pilot2'\n",
    "\n",
    "## look up number of trials\n",
    "trialNumDict = {'pilot1':40, 'pilot2':32}\n",
    "numTrials = trialNumDict[iterationName]"
   ]
  },
  {
   "cell_type": "markdown",
   "metadata": {},
   "source": [
    "### construct tidy dataframe with game data"
   ]
  },
  {
   "cell_type": "code",
   "execution_count": 4,
   "metadata": {
    "collapsed": false
   },
   "outputs": [
    {
     "name": "stdout",
     "output_type": "stream",
     "text": [
      "Analyzing game 7067-442e422f-cd21-414e-b1cc-0643487dc400 | 90 of 90\n"
     ]
    }
   ],
   "source": [
    "## get list of gameIDs\n",
    "gameIDs = coll.find({'iterationName':iterationName}).distinct('gameID')\n",
    "complete_games = [g for g in gameIDs if len(coll.find({'gameID':g}).distinct('trialNum')) == numTrials]\n",
    "\n",
    "## filter out scribble games\n",
    "scribble_games = ['8927-ed92b1cd-7048-47cf-b0fa-55460942d03f','1827-1f1b53ce-6bf0-4d36-88c7-dd4fbc5ed93d',\n",
    "                 '1005-ab4289b5-846d-4ea2-95ee-84a6bb85b04e','6963-a564b891-58fd-496f-a880-4fde85ac9f12',\n",
    "                 '8373-3086e308-8b53-4a3a-b517-15c7cd7ff467']\n",
    "collab_broken_games = ['8084-41112791-3f53-4a48-85c0-244774e9732b','0408-5409d609-c2c2-4701-8866-15be40ae1b9e',\n",
    "                      '2088-0ade8a40-789b-4311-b097-83d266899531','2179-03831158-60a4-423b-8ece-2b1b1c42191b',\n",
    "                      '9554-9c1fae49-babb-4a9d-bece-073a956fbe81']\n",
    "complete_games = [g for g in complete_games if g not in scribble_games]\n",
    "complete_games = [g for g in complete_games if g not in collab_broken_games]\n",
    "\n",
    "\n",
    "## construct tidy dataframe for all games\n",
    "D = pd.DataFrame()\n",
    "M = pd.DataFrame()\n",
    "for g, this_gameID in enumerate(complete_games):\n",
    "    print 'Analyzing game {} | {} of {}'.format(this_gameID, g+1, len(complete_games))\n",
    "    clear_output(wait=True)    \n",
    "    \n",
    "    ### extract sketch (contains pngString) records \n",
    "    K = coll.find({ '$and': [{'iterationName':iterationName}, {'gameID': this_gameID}, {'dataType': 'sketch'}]}).sort('time') \n",
    "    li = list(K)\n",
    "    _M = pd.DataFrame(li)\n",
    "    \n",
    "    ## get list of records for single game and convert to tidy dataframe\n",
    "    T = coll.find({ '$and': [{'iterationName':iterationName}, {'gameID': this_gameID}, {'dataType': 'stroke'}]}).sort('time')         \n",
    "    li = list(T)\n",
    "    _D = pd.DataFrame(li)\n",
    "\n",
    "    ## concat with previous game's dataframe\n",
    "    if D.shape[0]==0:\n",
    "        D = _D\n",
    "        M = _M\n",
    "    else: \n",
    "        D = pd.concat([D,_D], axis=0) \n",
    "        M = pd.concat([M,_M], axis=0)\n",
    "\n",
    "## postprocessing\n",
    "D = D.drop('workerId',axis=1)\n",
    "M = M.drop('workerId',axis=1)\n",
    "        \n",
    "## save out group dataframe to csv dir\n",
    "D.to_csv(os.path.join(csv_dir,'collabdraw_stroke_{}.csv'.format(iterationName)))        \n",
    "M.to_csv(os.path.join(csv_dir,'collabdraw_sketch_{}.csv'.format(iterationName)))"
   ]
  },
  {
   "cell_type": "markdown",
   "metadata": {},
   "source": [
    "### load in group data"
   ]
  },
  {
   "cell_type": "code",
   "execution_count": 5,
   "metadata": {
    "collapsed": false
   },
   "outputs": [
    {
     "name": "stdout",
     "output_type": "stream",
     "text": [
      "Number of unique gameIDs = 90\n"
     ]
    }
   ],
   "source": [
    "## load in stroke-level dataframe to render out source pngs (so has nifty color scheme)\n",
    "D = pd.read_csv(os.path.join(csv_dir,'collabdraw_stroke_{}.csv'.format(iterationName)))\n",
    "M = pd.read_csv(os.path.join(csv_dir,'collabdraw_sketch_{}.csv'.format(iterationName)))\n",
    "print 'Number of unique gameIDs = {}'.format(D.gameID.nunique())"
   ]
  },
  {
   "cell_type": "markdown",
   "metadata": {},
   "source": [
    "### render out sketches for inspection & feature extraction"
   ]
  },
  {
   "cell_type": "code",
   "execution_count": 6,
   "metadata": {
    "collapsed": false,
    "scrolled": false
   },
   "outputs": [
    {
     "name": "stdout",
     "output_type": "stream",
     "text": [
      "convert /Users/judithfan/collabdraw/sketches/svg/9881-7594407d-025c-464f-b0e5-f3ab30bae0e5_swan_3_24_solo_both_pilot2.svg /Users/judithfan/collabdraw/sketches/png/9881-7594407d-025c-464f-b0e5-f3ab30bae0e5_swan_3_24_solo_both_pilot2.png\n"
     ]
    }
   ],
   "source": [
    "## render out all svg\n",
    "reload(srh)\n",
    "for name, group in D.groupby(['gameID','trialNum']):   \n",
    "        \n",
    "    ## get list of svg\n",
    "    this_svg, bounds = srh.make_svg_list(group,crop=True)\n",
    "    \n",
    "    ## construct filename\n",
    "    g = np.unique(group['gameID'])[0]\n",
    "    l = np.unique(group['className'])[0]\n",
    "    r = np.unique(group['repetition'])[0]    \n",
    "    t = np.unique(group['trialNum'])[0]\n",
    "    c = np.unique(group['condition'])[0]\n",
    "    s = 'both'\n",
    "    e = 'pilot2'\n",
    "    this_fname = '{}_{}_{}_{}_{}_{}_{}'.format(g,l,r,t,c,s,e)\n",
    "    \n",
    "    print 'Rendering out svg data from game: {}  trial: {}'.format(g,t)\n",
    "    clear_output(wait=True)\n",
    "    \n",
    "    ## render to svg file\n",
    "    padding = 10\n",
    "    stroke_pct_canvas = 0.02 ## what fraction of image size should a stroke's width be?\n",
    "    stroke_width = np.int(np.round(stroke_pct_canvas*bounds))\n",
    "    \n",
    "    srh.render_svg(this_svg,\n",
    "                 out_dir=svg_dir,\n",
    "                 viewbox=[0, 0, bounds+padding, bounds+padding],\n",
    "                 stroke_width = stroke_width,\n",
    "                 stroke_color = 'black',\n",
    "                 out_fname= '{}.svg'.format(this_fname)) \n",
    "    \n",
    "## get svg path list for rendered out svg\n",
    "svg_paths = srh.generate_svg_path_list(os.path.join(sketch_dir,'svg'))    \n",
    "\n",
    "## convert all svg to png\n",
    "srh.svg_to_png(svg_paths,base_dir=sketch_dir)"
   ]
  },
  {
   "cell_type": "code",
   "execution_count": null,
   "metadata": {
    "collapsed": true
   },
   "outputs": [],
   "source": [
    "## note: game '9053-d3a0c1d9-cb81-4bdd-a572-5e38b91b33e9' in pilot1 missing stroke data from the first sheep"
   ]
  },
  {
   "cell_type": "markdown",
   "metadata": {},
   "source": [
    "### sketch-data lesion studies (render out sketches missing human/sketchrnn strokes)"
   ]
  },
  {
   "cell_type": "code",
   "execution_count": null,
   "metadata": {
    "collapsed": true
   },
   "outputs": [],
   "source": [
    "## collabdrawings: lesion human/sketchrnn strokes\n",
    "## solodrawings: lesion odd or even strokes"
   ]
  },
  {
   "cell_type": "markdown",
   "metadata": {},
   "source": [
    "#### collab drawings"
   ]
  },
  {
   "cell_type": "code",
   "execution_count": null,
   "metadata": {
    "collapsed": true
   },
   "outputs": [],
   "source": [
    "## render out all svg\n",
    "reload(srh)\n",
    "Dc = D[D['condition']=='collab']\n",
    "for name, group in Dc.groupby(['gameID','trialNum','sketcherId']):  \n",
    "     \n",
    "    ## get list of svg\n",
    "    this_svg, bounds = srh.make_svg_list(group,crop=True)\n",
    "    \n",
    "    ## construct filename\n",
    "    g = np.unique(group['gameID'])[0]\n",
    "    l = np.unique(group['className'])[0]\n",
    "    r = np.unique(group['repetition'])[0]    \n",
    "    t = np.unique(group['trialNum'])[0]\n",
    "    c = np.unique(group['condition'])[0]\n",
    "    s = np.unique(group['sketcherId'])[0]\n",
    "    e = iterationName\n",
    "\n",
    "    this_fname = '{}_{}_{}_{}_{}_{}_{}'.format(g,l,r,t,c,s,e)\n",
    "    \n",
    "    print 'Rendering out svg data from game: {}  trial: {}'.format(g,t)\n",
    "    clear_output(wait=True)\n",
    "    \n",
    "    ## render to svg file\n",
    "    padding = 10\n",
    "    stroke_pct_canvas = 0.02 ## what fraction of image size should a stroke's width be?\n",
    "    stroke_width = np.int(np.round(stroke_pct_canvas*bounds))\n",
    "    \n",
    "    svg_dir_partial = os.path.join(sketch_dir,'svg_collab','human_only') if s=='human' else os.path.join(sketch_dir,'svg_collab','robot_only')\n",
    "    if not os.path.exists(os.path.join(sketch_dir,'svg_collab')):\n",
    "        os.makedirs(os.path.join(sketch_dir,'svg_collab'))\n",
    "    if not os.path.exists(svg_dir_partial):\n",
    "        os.makedirs(svg_dir_partial)\n",
    "    \n",
    "    srh.render_svg(this_svg,\n",
    "                 out_dir=svg_dir_partial,\n",
    "                 viewbox=[0, 0, bounds+padding, bounds+padding],\n",
    "                 stroke_width = stroke_width,\n",
    "                 stroke_color = 'black',\n",
    "                 out_fname= '{}.svg'.format(this_fname)) \n",
    "      \n",
    "for sketcherId in ['human','robot']:    \n",
    "    ## get svg path list for rendered out svg\n",
    "    svg_paths = srh.generate_svg_path_list(os.path.join(sketch_dir,'svg_collab','{}_only'.format(sketcherId)))    \n",
    "\n",
    "    ## convert all svg to png\n",
    "    srh.svg_to_png(svg_paths,base_dir=sketch_dir,out_dir=os.path.join(sketch_dir,'png_collab','{}_only'.format(sketcherId)))    "
   ]
  },
  {
   "cell_type": "code",
   "execution_count": null,
   "metadata": {
    "collapsed": true
   },
   "outputs": [],
   "source": []
  },
  {
   "cell_type": "markdown",
   "metadata": {},
   "source": [
    "#### solo drawings"
   ]
  },
  {
   "cell_type": "code",
   "execution_count": null,
   "metadata": {
    "collapsed": true
   },
   "outputs": [],
   "source": [
    "## render out all svg\n",
    "reload(srh)\n",
    "Ds = D[D['condition']=='solo']\n",
    "## split strokes by odd/even to match lesion analysis on collab drawings\n",
    "Ds = Ds.assign(parity=Ds['numStrokes'].apply(lambda x: 'even' if x%2==0 else 'odd')) "
   ]
  },
  {
   "cell_type": "code",
   "execution_count": null,
   "metadata": {
    "collapsed": true,
    "scrolled": true
   },
   "outputs": [],
   "source": [
    "for name, group in Ds.groupby(['gameID','trialNum','parity']):  \n",
    "     \n",
    "    ## get list of svg\n",
    "    this_svg, bounds = srh.make_svg_list(group,crop=True)\n",
    "    \n",
    "    ## construct filename\n",
    "    g = np.unique(group['gameID'])[0]\n",
    "    l = np.unique(group['className'])[0]\n",
    "    r = np.unique(group['repetition'])[0]    \n",
    "    t = np.unique(group['trialNum'])[0]\n",
    "    c = np.unique(group['condition'])[0]\n",
    "    s = np.unique(group['parity'])[0]\n",
    "    e = iterationName\n",
    "\n",
    "    this_fname = '{}_{}_{}_{}_{}_{}_{}'.format(g,l,r,t,c,s,e)\n",
    "    \n",
    "    print 'Rendering out svg data from game: {}  trial: {}'.format(g,t)\n",
    "    clear_output(wait=True)\n",
    "    \n",
    "    ## render to svg file\n",
    "    padding = 10\n",
    "    stroke_pct_canvas = 0.02 ## what fraction of image size should a stroke's width be?\n",
    "    stroke_width = np.int(np.round(stroke_pct_canvas*bounds))\n",
    "    \n",
    "    svg_dir_partial = os.path.join(sketch_dir,'svg_solo','even_only') if s=='even' else os.path.join(sketch_dir,'svg_solo','odd_only')\n",
    "    if not os.path.exists(os.path.join(sketch_dir,'svg_solo')):\n",
    "        os.makedirs(os.path.join(sketch_dir,'svg_solo'))\n",
    "    if not os.path.exists(svg_dir_partial):\n",
    "        os.makedirs(svg_dir_partial)    \n",
    "    \n",
    "    if not os.path.exists(os.path.join(sketch_dir,'svg_solo')):\n",
    "        os.makedirs(os.path.join(sketch_dir,'svg_solo'))    \n",
    "    if not os.path.exists(svg_dir_partial):\n",
    "        os.makedirs(svg_dir_partial)\n",
    "    \n",
    "    srh.render_svg(this_svg,\n",
    "                 out_dir=svg_dir_partial,\n",
    "                 viewbox=[0, 0, bounds+padding, bounds+padding],\n",
    "                 stroke_width = stroke_width,\n",
    "                 stroke_color = 'black',\n",
    "                 out_fname= '{}.svg'.format(this_fname))\n",
    "    \n",
    "for parities in ['even','odd']:     \n",
    "    \n",
    "    ## get svg path list for rendered out svg\n",
    "    svg_paths = srh.generate_svg_path_list(os.path.join(sketch_dir,'svg_solo','{}_only'.format(parities)))    \n",
    "\n",
    "    ## convert all svg to png\n",
    "    srh.svg_to_png(svg_paths,base_dir=sketch_dir,out_dir=os.path.join(sketch_dir,'png_solo','{}_only'.format(parities)))        \n",
    "      "
   ]
  },
  {
   "cell_type": "code",
   "execution_count": null,
   "metadata": {
    "collapsed": true
   },
   "outputs": [],
   "source": []
  },
  {
   "cell_type": "markdown",
   "metadata": {},
   "source": [
    "### render out colored version of sketches (red = human, orange = sketch-rnn)"
   ]
  },
  {
   "cell_type": "code",
   "execution_count": null,
   "metadata": {
    "collapsed": true
   },
   "outputs": [],
   "source": [
    "reallyRun = 0\n",
    "if reallyRun:\n",
    "    ## render colored version of images for fun\n",
    "    for i, this_gameID in enumerate(complete_games):\n",
    "        K = coll.find({'dataType':'sketch',\n",
    "                       'gameID':this_gameID}).sort('time')\n",
    "        for k in K:\n",
    "\n",
    "            ## convert to image\n",
    "            imgstring = k['pngString']\n",
    "            im = Image.open(BytesIO(base64.b64decode(imgstring)))\n",
    "\n",
    "            ## remove transparency layer\n",
    "            im = srh.RGBA2RGB(im)\n",
    "\n",
    "            ## crop to sketch only (reduce white space)\n",
    "            arr = np.asarray(im)\n",
    "            w,h,d = np.where(arr<240) # where the image is not white\n",
    "            xlb = min(h)\n",
    "            xub = max(h)\n",
    "            ylb = min(w)\n",
    "            yub = max(w)\n",
    "            lb = min([xlb,ylb])\n",
    "            ub = max([xub,yub])\n",
    "            im2 = im.crop((xlb, ylb, xub, yub))\n",
    "\n",
    "            height = np.array(im2).shape[0]\n",
    "            width = np.array(im2).shape[1]\n",
    "            longer = max([height,width])\n",
    "\n",
    "            ## add padding\n",
    "            pad = 10\n",
    "            im3 = ImageOps.expand(im2,border=(pad,pad,pad+longer-width,pad+longer-height),fill=(255,255,255))        \n",
    "\n",
    "            ## rescale image\n",
    "            im4 = im3.resize((224, 224), Image.ANTIALIAS)\n",
    "\n",
    "            ## construct filename\n",
    "            g = k['gameID']\n",
    "            l = k['className']\n",
    "            r = k['repetition']   \n",
    "            t = k['trialNum']\n",
    "            c = k['condition']\n",
    "            this_fname = '{}_{}_{}_{}_{}'.format(g,l,r,t,c) \n",
    "\n",
    "            print 'Rendering out images from game {}: {}  trial: {}'.format(i+1,g,t) \n",
    "            clear_output(wait=True)\n",
    "\n",
    "            ## save out\n",
    "            if not os.path.exists(os.path.join(sketch_dir,'png_color')):\n",
    "                os.makedirs(os.path.join(sketch_dir,'png_color'))\n",
    "            im3.save(os.path.join(sketch_dir,'png_color','{}.png'.format(this_fname)))"
   ]
  },
  {
   "cell_type": "markdown",
   "metadata": {},
   "source": [
    "### generate formatted gallery for each participant"
   ]
  },
  {
   "cell_type": "code",
   "execution_count": null,
   "metadata": {
    "collapsed": true
   },
   "outputs": [],
   "source": [
    "reallyRun = 0\n",
    "if reallyRun:\n",
    "    ## get list of all png paths\n",
    "    im_paths = os.listdir(os.path.join(sketch_dir,'png_color'))\n",
    "\n",
    "    for this_gameID in complete_games:\n",
    "\n",
    "        print 'Generating gallery for {}'.format(this_gameID)\n",
    "        clear_output(wait=True)\n",
    "\n",
    "        ## get paths to images from this game\n",
    "        game_paths = [i for i in im_paths if i.split('_')[0]==this_gameID]\n",
    "        game_paths = [os.path.join(sketch_dir,'png_color',i) for i in game_paths]\n",
    "\n",
    "        ## get grid indices\n",
    "        grid_inds = []  \n",
    "        for i in xrange(25,825,100):\n",
    "            for j in xrange(25,425,100):\n",
    "                grid_inds.append((i,j))\n",
    "\n",
    "        ## actually generate the gallery\n",
    "        gallery = Image.new('RGB', (825,425),color=(255,255,255))    \n",
    "        for ind,f in enumerate(game_paths):\n",
    "            im = Image.open(f)    \n",
    "            im.thumbnail((100,100),Image.ANTIALIAS)\n",
    "            gallery.paste(im,grid_inds[ind])    \n",
    "\n",
    "        ## annotations    \n",
    "        title_inds = [(i,0) for i in xrange(50,850,100)]\n",
    "        class_names = ['bear','cat','duck','lion','pig','rabbit','sheep','swan']\n",
    "        class_titles = zip(class_names,title_inds)\n",
    "        draw = ImageDraw.Draw(gallery)    \n",
    "        for entry in class_titles:\n",
    "            draw.text(entry[1], entry[0], fill='#000000')    \n",
    "#         draw.text((10,50),'pre', fill='#000000')\n",
    "#         draw.text((10,450),'post', fill='#000000')\n",
    "\n",
    "        ## save out    \n",
    "        if not os.path.exists(os.path.join(sketch_dir,'gallery')):\n",
    "            os.makedirs(os.path.join(sketch_dir,'gallery'))    \n",
    "        gallery.save(os.path.join(sketch_dir,'gallery','sketch_gallery_{}.png'.format(this_gameID))) \n"
   ]
  },
  {
   "cell_type": "code",
   "execution_count": null,
   "metadata": {
    "collapsed": true
   },
   "outputs": [],
   "source": []
  },
  {
   "cell_type": "markdown",
   "metadata": {},
   "source": [
    "### analyze group data"
   ]
  },
  {
   "cell_type": "code",
   "execution_count": 100,
   "metadata": {
    "collapsed": false
   },
   "outputs": [
    {
     "data": {
      "image/png": "[encoded data removed]",
      "text/plain": [
       "<Figure size 576x432 with 2 Axes>"
      ]
     },
     "metadata": {},
     "output_type": "display_data"
    }
   ],
   "source": [
    "fig = plt.figure(figsize=(8,6))\n",
    "sns.set_context('poster')\n",
    "sns.set_style('whitegrid')\n",
    "plt.subplot(121)\n",
    "sns.barplot(data=M,\n",
    "            x='condition',\n",
    "            y='numStrokes',\n",
    "            order=['collab','solo'],            \n",
    "            palette='husl')\n",
    "plt.xlabel('')\n",
    "plt.ylabel('number of strokes')\n",
    "plt.ylim(0,20)\n",
    "\n",
    "plt.subplot(122)\n",
    "M['sketchDurationSec'] = M['sketchDuration'].apply(lambda x: x/1000)\n",
    "sns.set_style('whitegrid')\n",
    "sns.set_context('talk')\n",
    "sns.barplot(data=M,\n",
    "            x='condition',\n",
    "            y='sketchDurationSec',\n",
    "            order=['collab','solo'],\n",
    "            palette='husl')\n",
    "plt.xlabel('')\n",
    "plt.ylabel('drawing time (s)')\n",
    "plt.ylim(0,60)\n",
    "\n",
    "plt.tight_layout()\n",
    "plt.savefig(os.path.join(plot_dir,'sketch_effort_cost.pdf'))"
   ]
  },
  {
   "cell_type": "code",
   "execution_count": 95,
   "metadata": {
    "collapsed": false
   },
   "outputs": [],
   "source": [
    "def get_bootstrapped_diff(M,var='numStrokes'):\n",
    "    ## aggregate by game & condition\n",
    "    M2 = M.groupby(['gameID','condition'])[var].mean().reset_index()\n",
    "    ## pivot long to wide\n",
    "    M3 = M2.pivot(index='gameID', columns='condition', values=var).reset_index()\n",
    "    M3['diff'] = M3['collab'] - M3['solo']\n",
    "\n",
    "    ## bootstrap\n",
    "    nIter = 1000\n",
    "    boot_diff = []\n",
    "    for currIter in np.arange(nIter):\n",
    "        print 'On bootstrap iteration {}'.format(currIter+1)\n",
    "        clear_output(wait=True)\n",
    "        boot_dist = M3['diff'].sample(n=len(M3),replace=True,random_state=currIter).values\n",
    "        boot_diff.append(boot_dist)\n",
    "    \n",
    "    lb = np.percentile(boot_diff,2.5)\n",
    "    ub = np.percentile(boot_diff,97.5)        \n",
    "\n",
    "    print var        \n",
    "    print 'true diff: {} |  95% CI: [{}, {}]'.format(np.mean(M3['diff']).round(4),lb,ub)  \n",
    "    print 'mean collab: {} | mean solo: {}'.format(M3['collab'].values.mean(),M3['solo'].values.mean())\n",
    "    return M3, lb,ub"
   ]
  },
  {
   "cell_type": "code",
   "execution_count": 96,
   "metadata": {
    "collapsed": false
   },
   "outputs": [
    {
     "name": "stdout",
     "output_type": "stream",
     "text": [
      "numStrokes\n",
      "true diff: 0.488 |  95% CI: [-5.625, 5.0625]\n",
      "mean collab: 12.2375 | mean solo: 11.7494907407\n"
     ]
    }
   ],
   "source": [
    "M3,lb,ub = get_bootstrapped_diff(M,var='numStrokes')"
   ]
  },
  {
   "cell_type": "code",
   "execution_count": null,
   "metadata": {
    "collapsed": true
   },
   "outputs": [],
   "source": [
    "M3,lb,ub = get_bootstrapped_diff(M,var='sketchDurationSec')"
   ]
  },
  {
   "cell_type": "code",
   "execution_count": null,
   "metadata": {
    "collapsed": false
   },
   "outputs": [],
   "source": []
  },
  {
   "cell_type": "code",
   "execution_count": null,
   "metadata": {
    "collapsed": true
   },
   "outputs": [],
   "source": []
  }
 ],
 "metadata": {
  "kernelspec": {
   "display_name": "Python 2",
   "language": "python",
   "name": "python2"
  },
  "language_info": {
   "codemirror_mode": {
    "name": "ipython",
    "version": 2
   },
   "file_extension": ".py",
   "mimetype": "text/x-python",
   "name": "python",
   "nbconvert_exporter": "python",
   "pygments_lexer": "ipython2",
   "version": "2.7.13"
  }
 },
 "nbformat": 4,
 "nbformat_minor": 1
}
