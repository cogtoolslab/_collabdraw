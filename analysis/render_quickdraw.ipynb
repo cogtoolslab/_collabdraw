{
 "cells": [
  {
   "cell_type": "code",
   "execution_count": null,
   "metadata": {},
   "outputs": [],
   "source": [
    "import os, sys\n",
    "import urllib, cStringIO\n",
    "\n",
    "import pymongo as pm\n",
    "\n",
    "import matplotlib\n",
    "from matplotlib import pylab, mlab, pyplot\n",
    "%matplotlib inline\n",
    "from IPython.core.pylabtools import figsize, getfigs\n",
    "plt = pyplot\n",
    "import seaborn as sns\n",
    "sns.set_context('poster')\n",
    "sns.set_style('white')\n",
    "\n",
    "import numpy as np\n",
    "from __future__ import division\n",
    "import scipy.stats as stats\n",
    "import pandas as pd\n",
    "import json\n",
    "import re\n",
    "\n",
    "from IPython.display import clear_output\n",
    "\n",
    "from PIL import Image\n",
    "import base64"
   ]
  },
  {
   "cell_type": "code",
   "execution_count": null,
   "metadata": {},
   "outputs": [],
   "source": [
    "# directory & file hierarchy\n",
    "proj_dir = os.path.abspath('..')\n",
    "analysis_dir = os.getcwd()\n",
    "results_dir = os.path.join(proj_dir,'results')\n",
    "plot_dir = os.path.join(results_dir,'plots')\n",
    "csv_dir = os.path.join(results_dir,'csv')\n",
    "exp_dir = os.path.abspath(os.path.join(proj_dir,'experiments'))\n",
    "sketch_dir = os.path.abspath(os.path.join(proj_dir,'sketches'))\n",
    "feature_dir = os.path.abspath(os.path.join(proj_dir,'features'))\n",
    "svg_dir = os.path.abspath(os.path.join(sketch_dir,'svg'))\n",
    "png_dir = os.path.abspath(os.path.join(sketch_dir,'png'))\n",
    "\n",
    "## add helpers to python path\n",
    "if os.path.join(proj_dir,'analysis') not in sys.path:\n",
    "    sys.path.append(os.path.join(proj_dir,'python'))\n",
    "    \n",
    "if not os.path.exists(results_dir):\n",
    "    os.makedirs(results_dir)\n",
    "    \n",
    "if not os.path.exists(plot_dir):\n",
    "    os.makedirs(plot_dir)   \n",
    "    \n",
    "if not os.path.exists(csv_dir):\n",
    "    os.makedirs(csv_dir)       \n",
    "    \n",
    "# Assign variables within imported analysis helpers\n",
    "import analysis_helpers as h\n",
    "import rendering_helpers as srh\n",
    "if sys.version_info[0]>=3:\n",
    "    from importlib import reload\n",
    "reload(h)\n",
    "reload(srh)"
   ]
  },
  {
   "cell_type": "code",
   "execution_count": null,
   "metadata": {},
   "outputs": [],
   "source": [
    "# path to npz files\n",
    "path_npz = os.path.join(sketch_dir,'quickdraw','npz')\n",
    "path_svg = os.path.join(sketch_dir,'quickdraw','svg')\n",
    "path_png = os.path.join(sketch_dir,'quickdraw','png')\n",
    "\n",
    "# how many drawings from each category to include\n",
    "sample_size = 5000\n",
    "\n",
    "# list of all sketch classes\n",
    "class_list = ['bear','cat','duck','lion','pig','rabbit','sheep','swan']\n",
    "\n",
    "# sorted list of all categories\n",
    "paths = [os.path.join(path_npz,i) for i in sorted(os.listdir(path_npz))]"
   ]
  },
  {
   "cell_type": "code",
   "execution_count": null,
   "metadata": {},
   "outputs": [],
   "source": [
    "# render params\n",
    "padding = 10 # how much padding \n",
    "stroke_pct_canvas = 0.02 ## what fraction of image size should a stroke's width be?\n",
    "\n",
    "# loop through paths and render out\n",
    "for path in paths:\n",
    "    category = path.split('/')[-1].split('.')[0]\n",
    "    x = np.load(path)\n",
    "    y = x['train']\n",
    "    for i in np.arange(sample_size):    \n",
    "        lines = srh.strokes_to_lines(y[i])\n",
    "        this_svg, bounds = srh.make_svg_list(lines)\n",
    "\n",
    "        ## render to svg file\n",
    "        stroke_width = np.int(np.round(stroke_pct_canvas*bounds))\n",
    "        out_dir = os.path.join(path_svg,category)\n",
    "        out_fname = '{:04d}'.format(i)\n",
    "        if not os.path.exists(os.path.join(path_svg,category)):\n",
    "            os.makedirs(os.path.join(path_svg,category))\n",
    "        srh.render_svg(this_svg,\n",
    "                     out_dir=out_dir,\n",
    "                     viewbox=[0, 0, bounds+padding, bounds+padding],\n",
    "                     stroke_width = stroke_width,\n",
    "                     stroke_color = 'black',\n",
    "                     out_fname= '{}.svg'.format(out_fname)) \n",
    "        print('Rendering {}/{}'.format(out_dir,out_fname))\n",
    "        clear_output(wait=True)"
   ]
  },
  {
   "cell_type": "code",
   "execution_count": null,
   "metadata": {},
   "outputs": [],
   "source": [
    "## get svg path list for rendered out svg\n",
    "svg_paths = srh.generate_svg_path_list(os.path.join(path_svg))    \n",
    "\n",
    "## convert all svg to png\n",
    "for svg_path in svg_paths:\n",
    "    category = svg_path.split('/')[-2]\n",
    "    srh.svg_to_png([svg_path],base_dir=path_png,out_dir=category)    "
   ]
  },
  {
   "cell_type": "code",
   "execution_count": null,
   "metadata": {},
   "outputs": [],
   "source": [
    "## extract quickdraw features using VGG fc6 (this takes a few minutes)\n",
    "for this_category in class_list:\n",
    "    print 'Extracting quickdraw features for {}'.format(this_category)\n",
    "    clear_output(wait=True)\n",
    "    cmd_string = \"python extract_features.py --data='/home/jefan/collabdraw/sketches/quickdraw/png/{}' --layer_ind=5 --data_type='sketch' --spatial_avg=True --channel_norm=False --out_dir='/home/jefan/collabdraw/features/quickdraw/{}'\".format(this_category,this_category)\n",
    "    os.system(cmd_string)\n",
    "print 'Done!'"
   ]
  },
  {
   "cell_type": "code",
   "execution_count": null,
   "metadata": {},
   "outputs": [],
   "source": []
  },
  {
   "cell_type": "code",
   "execution_count": null,
   "metadata": {},
   "outputs": [],
   "source": []
  }
 ],
 "metadata": {
  "kernelspec": {
   "display_name": "Python 2",
   "language": "python",
   "name": "python2"
  },
  "language_info": {
   "codemirror_mode": {
    "name": "ipython",
    "version": 2
   },
   "file_extension": ".py",
   "mimetype": "text/x-python",
   "name": "python",
   "nbconvert_exporter": "python",
   "pygments_lexer": "ipython2",
   "version": "2.7.12"
  }
 },
 "nbformat": 4,
 "nbformat_minor": 2
}
